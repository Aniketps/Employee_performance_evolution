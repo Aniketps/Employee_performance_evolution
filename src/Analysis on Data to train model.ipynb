{
 "cells": [
  {
   "cell_type": "markdown",
   "id": "e566ea64",
   "metadata": {},
   "source": [
    "# First thing is to import all the required python libraries\n",
    "* 1) Sklearn\n",
    "* 2) Numpy\n",
    "* 3) Pandas\n",
    "* 4) Matplotlib\n",
    "* 5) Seaborn\n",
    "* 6) Sklearn\n",
    "* 7) Sklearn\n",
    "* 8) Sklearn"
   ]
  },
  {
   "cell_type": "code",
   "execution_count": 1,
   "id": "b70e7f28",
   "metadata": {},
   "outputs": [],
   "source": [
    "import pandas as pd\n",
    "import numpy as np\n",
    "import matplotlib.pyplot as plt\n",
    "import seaborn as sns\n",
    "from sklearn.model_selection import train_test_split\n",
    "from sklearn.linear_model import LinearRegression, ARDRegression, LogisticRegression\n",
    "from sklearn.metrics import average_precision_score, confusion_matrix, mean_absolute_error, mean_squared_error"
   ]
  },
  {
   "cell_type": "code",
   "execution_count": 2,
   "id": "4e5525e8",
   "metadata": {},
   "outputs": [],
   "source": [
    "data = pd.read_csv(\"train.csv\")"
   ]
  },
  {
   "cell_type": "code",
   "execution_count": 3,
   "id": "685a7204",
   "metadata": {},
   "outputs": [
    {
     "data": {
      "text/plain": [
       "(54808, 13)"
      ]
     },
     "execution_count": 3,
     "metadata": {},
     "output_type": "execute_result"
    }
   ],
   "source": [
    "data.shape"
   ]
  },
  {
   "cell_type": "code",
   "execution_count": 4,
   "id": "6f05c462",
   "metadata": {},
   "outputs": [
    {
     "data": {
      "text/html": [
       "<div>\n",
       "<style scoped>\n",
       "    .dataframe tbody tr th:only-of-type {\n",
       "        vertical-align: middle;\n",
       "    }\n",
       "\n",
       "    .dataframe tbody tr th {\n",
       "        vertical-align: top;\n",
       "    }\n",
       "\n",
       "    .dataframe thead th {\n",
       "        text-align: right;\n",
       "    }\n",
       "</style>\n",
       "<table border=\"1\" class=\"dataframe\">\n",
       "  <thead>\n",
       "    <tr style=\"text-align: right;\">\n",
       "      <th></th>\n",
       "      <th>employee_id</th>\n",
       "      <th>department</th>\n",
       "      <th>region</th>\n",
       "      <th>education</th>\n",
       "      <th>gender</th>\n",
       "      <th>recruitment_channel</th>\n",
       "      <th>no_of_trainings</th>\n",
       "      <th>age</th>\n",
       "      <th>previous_year_rating</th>\n",
       "      <th>length_of_service</th>\n",
       "      <th>awards_won?</th>\n",
       "      <th>avg_training_score</th>\n",
       "      <th>is_promoted</th>\n",
       "    </tr>\n",
       "  </thead>\n",
       "  <tbody>\n",
       "    <tr>\n",
       "      <th>0</th>\n",
       "      <td>65438</td>\n",
       "      <td>Sales &amp; Marketing</td>\n",
       "      <td>region_7</td>\n",
       "      <td>Master's &amp; above</td>\n",
       "      <td>f</td>\n",
       "      <td>sourcing</td>\n",
       "      <td>1</td>\n",
       "      <td>35</td>\n",
       "      <td>5.0</td>\n",
       "      <td>8</td>\n",
       "      <td>0</td>\n",
       "      <td>49</td>\n",
       "      <td>0</td>\n",
       "    </tr>\n",
       "    <tr>\n",
       "      <th>1</th>\n",
       "      <td>65141</td>\n",
       "      <td>Operations</td>\n",
       "      <td>region_22</td>\n",
       "      <td>Bachelor's</td>\n",
       "      <td>m</td>\n",
       "      <td>other</td>\n",
       "      <td>1</td>\n",
       "      <td>30</td>\n",
       "      <td>5.0</td>\n",
       "      <td>4</td>\n",
       "      <td>0</td>\n",
       "      <td>60</td>\n",
       "      <td>0</td>\n",
       "    </tr>\n",
       "    <tr>\n",
       "      <th>2</th>\n",
       "      <td>7513</td>\n",
       "      <td>Sales &amp; Marketing</td>\n",
       "      <td>region_19</td>\n",
       "      <td>Bachelor's</td>\n",
       "      <td>m</td>\n",
       "      <td>sourcing</td>\n",
       "      <td>1</td>\n",
       "      <td>34</td>\n",
       "      <td>3.0</td>\n",
       "      <td>7</td>\n",
       "      <td>0</td>\n",
       "      <td>50</td>\n",
       "      <td>0</td>\n",
       "    </tr>\n",
       "    <tr>\n",
       "      <th>3</th>\n",
       "      <td>2542</td>\n",
       "      <td>Sales &amp; Marketing</td>\n",
       "      <td>region_23</td>\n",
       "      <td>Bachelor's</td>\n",
       "      <td>m</td>\n",
       "      <td>other</td>\n",
       "      <td>2</td>\n",
       "      <td>39</td>\n",
       "      <td>1.0</td>\n",
       "      <td>10</td>\n",
       "      <td>0</td>\n",
       "      <td>50</td>\n",
       "      <td>0</td>\n",
       "    </tr>\n",
       "    <tr>\n",
       "      <th>4</th>\n",
       "      <td>48945</td>\n",
       "      <td>Technology</td>\n",
       "      <td>region_26</td>\n",
       "      <td>Bachelor's</td>\n",
       "      <td>m</td>\n",
       "      <td>other</td>\n",
       "      <td>1</td>\n",
       "      <td>45</td>\n",
       "      <td>3.0</td>\n",
       "      <td>2</td>\n",
       "      <td>0</td>\n",
       "      <td>73</td>\n",
       "      <td>0</td>\n",
       "    </tr>\n",
       "  </tbody>\n",
       "</table>\n",
       "</div>"
      ],
      "text/plain": [
       "   employee_id         department     region         education gender  \\\n",
       "0        65438  Sales & Marketing   region_7  Master's & above      f   \n",
       "1        65141         Operations  region_22        Bachelor's      m   \n",
       "2         7513  Sales & Marketing  region_19        Bachelor's      m   \n",
       "3         2542  Sales & Marketing  region_23        Bachelor's      m   \n",
       "4        48945         Technology  region_26        Bachelor's      m   \n",
       "\n",
       "  recruitment_channel  no_of_trainings  age  previous_year_rating  \\\n",
       "0            sourcing                1   35                   5.0   \n",
       "1               other                1   30                   5.0   \n",
       "2            sourcing                1   34                   3.0   \n",
       "3               other                2   39                   1.0   \n",
       "4               other                1   45                   3.0   \n",
       "\n",
       "   length_of_service  awards_won?  avg_training_score  is_promoted  \n",
       "0                  8            0                  49            0  \n",
       "1                  4            0                  60            0  \n",
       "2                  7            0                  50            0  \n",
       "3                 10            0                  50            0  \n",
       "4                  2            0                  73            0  "
      ]
     },
     "execution_count": 4,
     "metadata": {},
     "output_type": "execute_result"
    }
   ],
   "source": [
    "data.head()"
   ]
  },
  {
   "cell_type": "markdown",
   "id": "b0bdf6db",
   "metadata": {},
   "source": [
    "# We have got our data and all the required libraries time to perform Preprocessing on data\n",
    "* Data Cleaning\n",
    "* Data Transformations\n",
    "* Data Redundancy\n",
    "* Data Inconsistency\n",
    "* Data Integrity"
   ]
  },
  {
   "cell_type": "code",
   "execution_count": 5,
   "id": "b89b0ff1",
   "metadata": {},
   "outputs": [
    {
     "name": "stdout",
     "output_type": "stream",
     "text": [
      "<class 'pandas.core.frame.DataFrame'>\n",
      "RangeIndex: 54808 entries, 0 to 54807\n",
      "Data columns (total 13 columns):\n",
      " #   Column                Non-Null Count  Dtype  \n",
      "---  ------                --------------  -----  \n",
      " 0   employee_id           54808 non-null  int64  \n",
      " 1   department            54808 non-null  object \n",
      " 2   region                54808 non-null  object \n",
      " 3   education             52399 non-null  object \n",
      " 4   gender                54808 non-null  object \n",
      " 5   recruitment_channel   54808 non-null  object \n",
      " 6   no_of_trainings       54808 non-null  int64  \n",
      " 7   age                   54808 non-null  int64  \n",
      " 8   previous_year_rating  50684 non-null  float64\n",
      " 9   length_of_service     54808 non-null  int64  \n",
      " 10  awards_won?           54808 non-null  int64  \n",
      " 11  avg_training_score    54808 non-null  int64  \n",
      " 12  is_promoted           54808 non-null  int64  \n",
      "dtypes: float64(1), int64(7), object(5)\n",
      "memory usage: 5.4+ MB\n"
     ]
    }
   ],
   "source": [
    "data.info()"
   ]
  },
  {
   "cell_type": "code",
   "execution_count": 6,
   "id": "47f9e669",
   "metadata": {},
   "outputs": [],
   "source": [
    "Null_values_containing_columns = [\"education\", \"previous_year_rating\"]"
   ]
  },
  {
   "cell_type": "code",
   "execution_count": 7,
   "id": "9f1238da",
   "metadata": {},
   "outputs": [
    {
     "data": {
      "text/plain": [
       "array([\"Master's & above\", \"Bachelor's\", nan, 'Below Secondary'],\n",
       "      dtype=object)"
      ]
     },
     "execution_count": 7,
     "metadata": {},
     "output_type": "execute_result"
    }
   ],
   "source": [
    "data[\"education\"].unique()"
   ]
  },
  {
   "cell_type": "code",
   "execution_count": 8,
   "id": "df167a12",
   "metadata": {},
   "outputs": [],
   "source": [
    "data.dropna(subset=\"education\", inplace=True)"
   ]
  },
  {
   "cell_type": "code",
   "execution_count": 9,
   "id": "46ed29cb",
   "metadata": {},
   "outputs": [
    {
     "data": {
      "text/plain": [
       "employee_id                0\n",
       "department                 0\n",
       "region                     0\n",
       "education                  0\n",
       "gender                     0\n",
       "recruitment_channel        0\n",
       "no_of_trainings            0\n",
       "age                        0\n",
       "previous_year_rating    3739\n",
       "length_of_service          0\n",
       "awards_won?                0\n",
       "avg_training_score         0\n",
       "is_promoted                0\n",
       "dtype: int64"
      ]
     },
     "execution_count": 9,
     "metadata": {},
     "output_type": "execute_result"
    }
   ],
   "source": [
    "data.isnull().sum()"
   ]
  },
  {
   "cell_type": "code",
   "execution_count": 10,
   "id": "9ef9bd39",
   "metadata": {},
   "outputs": [],
   "source": [
    "data['previous_year_rating'].fillna(np.mean(data['previous_year_rating']), inplace=True)"
   ]
  },
  {
   "cell_type": "code",
   "execution_count": 11,
   "id": "e9ca05f0",
   "metadata": {},
   "outputs": [
    {
     "name": "stdout",
     "output_type": "stream",
     "text": [
      "<class 'pandas.core.frame.DataFrame'>\n",
      "Int64Index: 52399 entries, 0 to 54807\n",
      "Data columns (total 13 columns):\n",
      " #   Column                Non-Null Count  Dtype  \n",
      "---  ------                --------------  -----  \n",
      " 0   employee_id           52399 non-null  int64  \n",
      " 1   department            52399 non-null  object \n",
      " 2   region                52399 non-null  object \n",
      " 3   education             52399 non-null  object \n",
      " 4   gender                52399 non-null  object \n",
      " 5   recruitment_channel   52399 non-null  object \n",
      " 6   no_of_trainings       52399 non-null  int64  \n",
      " 7   age                   52399 non-null  int64  \n",
      " 8   previous_year_rating  52399 non-null  float64\n",
      " 9   length_of_service     52399 non-null  int64  \n",
      " 10  awards_won?           52399 non-null  int64  \n",
      " 11  avg_training_score    52399 non-null  int64  \n",
      " 12  is_promoted           52399 non-null  int64  \n",
      "dtypes: float64(1), int64(7), object(5)\n",
      "memory usage: 5.6+ MB\n"
     ]
    }
   ],
   "source": [
    "data.info()"
   ]
  },
  {
   "cell_type": "code",
   "execution_count": 12,
   "id": "a0c20ef9",
   "metadata": {},
   "outputs": [
    {
     "name": "stdout",
     "output_type": "stream",
     "text": [
      "employee_id : [65438 65141  7513 ... 74592 13918 51526]\n",
      "   \n",
      "department : ['Sales & Marketing' 'Operations' 'Technology' 'Analytics' 'R&D'\n",
      " 'Procurement' 'Finance' 'HR' 'Legal']\n",
      "   \n",
      "region : ['region_7' 'region_22' 'region_19' 'region_23' 'region_26' 'region_2'\n",
      " 'region_20' 'region_34' 'region_1' 'region_4' 'region_29' 'region_31'\n",
      " 'region_15' 'region_14' 'region_11' 'region_5' 'region_28' 'region_17'\n",
      " 'region_13' 'region_16' 'region_25' 'region_10' 'region_27' 'region_30'\n",
      " 'region_12' 'region_21' 'region_8' 'region_32' 'region_6' 'region_33'\n",
      " 'region_24' 'region_3' 'region_9' 'region_18']\n",
      "   \n",
      "education : [\"Master's & above\" \"Bachelor's\" 'Below Secondary']\n",
      "   \n",
      "gender : ['f' 'm']\n",
      "   \n",
      "recruitment_channel : ['sourcing' 'other' 'referred']\n",
      "   \n",
      "no_of_trainings : [ 1  2  3  4  7  5  6  8 10  9]\n",
      "   \n",
      "age : [35 30 34 39 45 31 33 28 32 49 37 38 27 29 26 57 40 42 23 59 44 50 56 20\n",
      " 25 41 47 36 46 60 24 43 54 22 58 48 55 51 52 53 21]\n",
      "   \n",
      "previous_year_rating : [5.         3.         1.         4.         3.33752569 2.        ]\n",
      "   \n",
      "length_of_service : [ 8  4  7 10  2  5  6  3 16  9  1 26 12 11 17 14 13 19 15 23 20 18 22 25\n",
      " 28 24 31 21 29 30 34 27 33 32 37]\n",
      "   \n",
      "awards_won? : [0 1]\n",
      "   \n",
      "avg_training_score : [49 60 50 73 85 59 63 83 54 80 84 77 51 46 75 70 68 79 44 72 61 58 87 47\n",
      " 57 52 88 71 48 65 62 53 78 91 82 69 74 86 90 92 67 89 56 76 81 45 55 39\n",
      " 94 93 64 66 95 42 96 40 99 43 97 41 98]\n",
      "   \n",
      "is_promoted : [0 1]\n",
      "   \n"
     ]
    }
   ],
   "source": [
    "for i in data.columns:\n",
    "    print(i, \":\", data[i].unique())\n",
    "    print(\"   \")"
   ]
  },
  {
   "cell_type": "code",
   "execution_count": 13,
   "id": "c07f9eb1",
   "metadata": {},
   "outputs": [
    {
     "name": "stderr",
     "output_type": "stream",
     "text": [
      "C:\\Users\\LENOVO\\AppData\\Local\\Temp\\ipykernel_21860\\1119197534.py:1: FutureWarning: The default value of numeric_only in DataFrame.corr is deprecated. In a future version, it will default to False. Select only valid columns or specify the value of numeric_only to silence this warning.\n",
      "  sns.heatmap(data.corr(), annot=True)\n"
     ]
    },
    {
     "data": {
      "text/plain": [
       "<AxesSubplot: >"
      ]
     },
     "execution_count": 13,
     "metadata": {},
     "output_type": "execute_result"
    },
    {
     "data": {
      "image/png": "[encoded data removed]",
      "text/plain": [
       "<Figure size 640x480 with 2 Axes>"
      ]
     },
     "metadata": {},
     "output_type": "display_data"
    }
   ],
   "source": [
    "sns.heatmap(data.corr(), annot=True)"
   ]
  },
  {
   "cell_type": "markdown",
   "id": "dd57125c",
   "metadata": {},
   "source": [
    "### From above heat map it seems we need to focus on only few columns like award_won, avg_training_score and previous_year_rating but im taking some other columns as well for more accuracy\n",
    "#### I will be going to drop columns containg strings"
   ]
  },
  {
   "cell_type": "code",
   "execution_count": 14,
   "id": "8188ae5b",
   "metadata": {},
   "outputs": [
    {
     "name": "stdout",
     "output_type": "stream",
     "text": [
      "<class 'pandas.core.frame.DataFrame'>\n",
      "Int64Index: 52399 entries, 0 to 54807\n",
      "Data columns (total 13 columns):\n",
      " #   Column                Non-Null Count  Dtype  \n",
      "---  ------                --------------  -----  \n",
      " 0   employee_id           52399 non-null  int64  \n",
      " 1   department            52399 non-null  object \n",
      " 2   region                52399 non-null  object \n",
      " 3   education             52399 non-null  object \n",
      " 4   gender                52399 non-null  object \n",
      " 5   recruitment_channel   52399 non-null  object \n",
      " 6   no_of_trainings       52399 non-null  int64  \n",
      " 7   age                   52399 non-null  int64  \n",
      " 8   previous_year_rating  52399 non-null  float64\n",
      " 9   length_of_service     52399 non-null  int64  \n",
      " 10  awards_won?           52399 non-null  int64  \n",
      " 11  avg_training_score    52399 non-null  int64  \n",
      " 12  is_promoted           52399 non-null  int64  \n",
      "dtypes: float64(1), int64(7), object(5)\n",
      "memory usage: 5.6+ MB\n"
     ]
    }
   ],
   "source": [
    "data.info()"
   ]
  },
  {
   "cell_type": "code",
   "execution_count": 15,
   "id": "4d6ee730",
   "metadata": {},
   "outputs": [],
   "source": [
    "data.drop(columns=[\"employee_id\", \"department\", \"region\", \"education\", \"gender\", \"recruitment_channel\"], inplace=True)"
   ]
  },
  {
   "cell_type": "code",
   "execution_count": 16,
   "id": "0d776fab",
   "metadata": {},
   "outputs": [
    {
     "name": "stdout",
     "output_type": "stream",
     "text": [
      "<class 'pandas.core.frame.DataFrame'>\n",
      "Int64Index: 52399 entries, 0 to 54807\n",
      "Data columns (total 7 columns):\n",
      " #   Column                Non-Null Count  Dtype  \n",
      "---  ------                --------------  -----  \n",
      " 0   no_of_trainings       52399 non-null  int64  \n",
      " 1   age                   52399 non-null  int64  \n",
      " 2   previous_year_rating  52399 non-null  float64\n",
      " 3   length_of_service     52399 non-null  int64  \n",
      " 4   awards_won?           52399 non-null  int64  \n",
      " 5   avg_training_score    52399 non-null  int64  \n",
      " 6   is_promoted           52399 non-null  int64  \n",
      "dtypes: float64(1), int64(6)\n",
      "memory usage: 3.2 MB\n"
     ]
    }
   ],
   "source": [
    "data.info()"
   ]
  },
  {
   "cell_type": "markdown",
   "id": "6e84f73f",
   "metadata": {},
   "source": [
    "## I have got clear data but the point is now i need to check whether data contains outliers because before training model i need to clear it other wise accuracy will reduce"
   ]
  },
  {
   "cell_type": "code",
   "execution_count": 17,
   "id": "68ef23a9",
   "metadata": {},
   "outputs": [
    {
     "data": {
      "image/png": "[encoded data removed]",
      "text/plain": [
       "<Figure size 400x300 with 4 Axes>"
      ]
     },
     "metadata": {},
     "output_type": "display_data"
    }
   ],
   "source": [
    "fig = plt.figure(figsize=(4,3))\n",
    "ax1 = fig.add_axes([0,0,1,1])\n",
    "ax2 = fig.add_axes([1,0,1,1])\n",
    "ax3 = fig.add_axes([0,1,1,1])\n",
    "ax4 = fig.add_axes([1,1,1,1])\n",
    "sns.boxenplot(data[\"no_of_trainings\"], ax=ax1)\n",
    "sns.boxenplot(data[\"age\"], ax=ax2)\n",
    "sns.boxenplot(data[\"previous_year_rating\"], ax=ax3)\n",
    "sns.boxenplot(data[\"length_of_service\"], ax=ax4)\n",
    "plt.show()"
   ]
  },
  {
   "cell_type": "code",
   "execution_count": 18,
   "id": "e49bdb50",
   "metadata": {},
   "outputs": [
    {
     "data": {
      "text/plain": [
       "<Axes: >"
      ]
     },
     "execution_count": 18,
     "metadata": {},
     "output_type": "execute_result"
    },
    {
     "data": {
      "image/png": "[encoded data removed]",
      "text/plain": [
       "<Figure size 400x300 with 3 Axes>"
      ]
     },
     "metadata": {},
     "output_type": "display_data"
    }
   ],
   "source": [
    "fig = plt.figure(figsize=(4,3))\n",
    "ax1 = fig.add_axes([0,0,1,1])\n",
    "ax2 = fig.add_axes([1,0,1,1])\n",
    "ax3 = fig.add_axes([0,1,1,1])\n",
    "\n",
    "sns.boxenplot(data[\"awards_won?\"], ax=ax1)\n",
    "sns.boxenplot(data[\"avg_training_score\"], ax=ax2)\n",
    "sns.boxenplot(data[\"is_promoted\"], ax=ax3)"
   ]
  },
  {
   "cell_type": "markdown",
   "id": "126e2f5b",
   "metadata": {},
   "source": [
    "# Im going to skip step of removing outliers for now lets check model by buiding with outliers\n",
    "\n",
    "### But remember removing outliers is an important step"
   ]
  },
  {
   "cell_type": "code",
   "execution_count": 19,
   "id": "a963258f",
   "metadata": {},
   "outputs": [],
   "source": [
    "clf1 = LinearRegression()\n",
    "clf2 = LogisticRegression()\n",
    "clf3 = ARDRegression()"
   ]
  },
  {
   "cell_type": "code",
   "execution_count": 20,
   "id": "9624b8b1",
   "metadata": {},
   "outputs": [],
   "source": [
    "train, test = train_test_split(data, test_size=0.2, random_state=42)"
   ]
  },
  {
   "cell_type": "code",
   "execution_count": 21,
   "id": "1b92114c",
   "metadata": {},
   "outputs": [
    {
     "name": "stdout",
     "output_type": "stream",
     "text": [
      "(41919, 7)\n",
      "(10480, 7)\n"
     ]
    }
   ],
   "source": [
    "print(train.shape)\n",
    "print(test.shape)"
   ]
  },
  {
   "cell_type": "code",
   "execution_count": 22,
   "id": "68e8cd1c",
   "metadata": {},
   "outputs": [
    {
     "data": {
      "text/html": [
       "<div>\n",
       "<style scoped>\n",
       "    .dataframe tbody tr th:only-of-type {\n",
       "        vertical-align: middle;\n",
       "    }\n",
       "\n",
       "    .dataframe tbody tr th {\n",
       "        vertical-align: top;\n",
       "    }\n",
       "\n",
       "    .dataframe thead th {\n",
       "        text-align: right;\n",
       "    }\n",
       "</style>\n",
       "<table border=\"1\" class=\"dataframe\">\n",
       "  <thead>\n",
       "    <tr style=\"text-align: right;\">\n",
       "      <th></th>\n",
       "      <th>no_of_trainings</th>\n",
       "      <th>age</th>\n",
       "      <th>previous_year_rating</th>\n",
       "      <th>length_of_service</th>\n",
       "      <th>awards_won?</th>\n",
       "      <th>avg_training_score</th>\n",
       "      <th>is_promoted</th>\n",
       "    </tr>\n",
       "  </thead>\n",
       "  <tbody>\n",
       "    <tr>\n",
       "      <th>14370</th>\n",
       "      <td>1</td>\n",
       "      <td>42</td>\n",
       "      <td>2.000000</td>\n",
       "      <td>13</td>\n",
       "      <td>0</td>\n",
       "      <td>69</td>\n",
       "      <td>0</td>\n",
       "    </tr>\n",
       "    <tr>\n",
       "      <th>50177</th>\n",
       "      <td>1</td>\n",
       "      <td>41</td>\n",
       "      <td>1.000000</td>\n",
       "      <td>13</td>\n",
       "      <td>0</td>\n",
       "      <td>80</td>\n",
       "      <td>0</td>\n",
       "    </tr>\n",
       "    <tr>\n",
       "      <th>36787</th>\n",
       "      <td>1</td>\n",
       "      <td>34</td>\n",
       "      <td>4.000000</td>\n",
       "      <td>3</td>\n",
       "      <td>0</td>\n",
       "      <td>60</td>\n",
       "      <td>0</td>\n",
       "    </tr>\n",
       "    <tr>\n",
       "      <th>8690</th>\n",
       "      <td>1</td>\n",
       "      <td>26</td>\n",
       "      <td>3.337526</td>\n",
       "      <td>1</td>\n",
       "      <td>0</td>\n",
       "      <td>47</td>\n",
       "      <td>0</td>\n",
       "    </tr>\n",
       "    <tr>\n",
       "      <th>12435</th>\n",
       "      <td>2</td>\n",
       "      <td>31</td>\n",
       "      <td>1.000000</td>\n",
       "      <td>1</td>\n",
       "      <td>0</td>\n",
       "      <td>47</td>\n",
       "      <td>0</td>\n",
       "    </tr>\n",
       "  </tbody>\n",
       "</table>\n",
       "</div>"
      ],
      "text/plain": [
       "       no_of_trainings  age  previous_year_rating  length_of_service  \\\n",
       "14370                1   42              2.000000                 13   \n",
       "50177                1   41              1.000000                 13   \n",
       "36787                1   34              4.000000                  3   \n",
       "8690                 1   26              3.337526                  1   \n",
       "12435                2   31              1.000000                  1   \n",
       "\n",
       "       awards_won?  avg_training_score  is_promoted  \n",
       "14370            0                  69            0  \n",
       "50177            0                  80            0  \n",
       "36787            0                  60            0  \n",
       "8690             0                  47            0  \n",
       "12435            0                  47            0  "
      ]
     },
     "execution_count": 22,
     "metadata": {},
     "output_type": "execute_result"
    }
   ],
   "source": [
    "train.head()"
   ]
  },
  {
   "cell_type": "code",
   "execution_count": 23,
   "id": "8b4ecd06",
   "metadata": {},
   "outputs": [],
   "source": [
    "train_features = train[[\"no_of_trainings\",\"age\",\"previous_year_rating\",\"length_of_service\",\"awards_won?\",\"avg_training_score\"]]\n",
    "train_labels = train[\"is_promoted\"]\n",
    "test_features = test[[\"no_of_trainings\",\"age\",\"previous_year_rating\",\"length_of_service\",\"awards_won?\",\"avg_training_score\"]]\n",
    "test_labels = test[\"is_promoted\"]"
   ]
  },
  {
   "cell_type": "code",
   "execution_count": 24,
   "id": "4569fa93",
   "metadata": {},
   "outputs": [
    {
     "name": "stdout",
     "output_type": "stream",
     "text": [
      "(41919, 6)\n",
      "(41919,)\n",
      "(10480, 6)\n",
      "(10480,)\n"
     ]
    }
   ],
   "source": [
    "print(train_features.shape)\n",
    "print(train_labels.shape)\n",
    "print(test_features.shape)\n",
    "print(test_labels.shape)"
   ]
  },
  {
   "cell_type": "code",
   "execution_count": 25,
   "id": "bd5d07e7",
   "metadata": {},
   "outputs": [
    {
     "data": {
      "text/html": [
       "<style>#sk-container-id-1 {color: black;background-color: white;}#sk-container-id-1 pre{padding: 0;}#sk-container-id-1 div.sk-toggleable {background-color: white;}#sk-container-id-1 label.sk-toggleable__label {cursor: pointer;display: block;width: 100%;margin-bottom: 0;padding: 0.3em;box-sizing: border-box;text-align: center;}#sk-container-id-1 label.sk-toggleable__label-arrow:before {content: \"▸\";float: left;margin-right: 0.25em;color: #696969;}#sk-container-id-1 label.sk-toggleable__label-arrow:hover:before {color: black;}#sk-container-id-1 div.sk-estimator:hover label.sk-toggleable__label-arrow:before {color: black;}#sk-container-id-1 div.sk-toggleable__content {max-height: 0;max-width: 0;overflow: hidden;text-align: left;background-color: #f0f8ff;}#sk-container-id-1 div.sk-toggleable__content pre {margin: 0.2em;color: black;border-radius: 0.25em;background-color: #f0f8ff;}#sk-container-id-1 input.sk-toggleable__control:checked~div.sk-toggleable__content {max-height: 200px;max-width: 100%;overflow: auto;}#sk-container-id-1 input.sk-toggleable__control:checked~label.sk-toggleable__label-arrow:before {content: \"▾\";}#sk-container-id-1 div.sk-estimator input.sk-toggleable__control:checked~label.sk-toggleable__label {background-color: #d4ebff;}#sk-container-id-1 div.sk-label input.sk-toggleable__control:checked~label.sk-toggleable__label {background-color: #d4ebff;}#sk-container-id-1 input.sk-hidden--visually {border: 0;clip: rect(1px 1px 1px 1px);clip: rect(1px, 1px, 1px, 1px);height: 1px;margin: -1px;overflow: hidden;padding: 0;position: absolute;width: 1px;}#sk-container-id-1 div.sk-estimator {font-family: monospace;background-color: #f0f8ff;border: 1px dotted black;border-radius: 0.25em;box-sizing: border-box;margin-bottom: 0.5em;}#sk-container-id-1 div.sk-estimator:hover {background-color: #d4ebff;}#sk-container-id-1 div.sk-parallel-item::after {content: \"\";width: 100%;border-bottom: 1px solid gray;flex-grow: 1;}#sk-container-id-1 div.sk-label:hover label.sk-toggleable__label {background-color: #d4ebff;}#sk-container-id-1 div.sk-serial::before {content: \"\";position: absolute;border-left: 1px solid gray;box-sizing: border-box;top: 0;bottom: 0;left: 50%;z-index: 0;}#sk-container-id-1 div.sk-serial {display: flex;flex-direction: column;align-items: center;background-color: white;padding-right: 0.2em;padding-left: 0.2em;position: relative;}#sk-container-id-1 div.sk-item {position: relative;z-index: 1;}#sk-container-id-1 div.sk-parallel {display: flex;align-items: stretch;justify-content: center;background-color: white;position: relative;}#sk-container-id-1 div.sk-item::before, #sk-container-id-1 div.sk-parallel-item::before {content: \"\";position: absolute;border-left: 1px solid gray;box-sizing: border-box;top: 0;bottom: 0;left: 50%;z-index: -1;}#sk-container-id-1 div.sk-parallel-item {display: flex;flex-direction: column;z-index: 1;position: relative;background-color: white;}#sk-container-id-1 div.sk-parallel-item:first-child::after {align-self: flex-end;width: 50%;}#sk-container-id-1 div.sk-parallel-item:last-child::after {align-self: flex-start;width: 50%;}#sk-container-id-1 div.sk-parallel-item:only-child::after {width: 0;}#sk-container-id-1 div.sk-dashed-wrapped {border: 1px dashed gray;margin: 0 0.4em 0.5em 0.4em;box-sizing: border-box;padding-bottom: 0.4em;background-color: white;}#sk-container-id-1 div.sk-label label {font-family: monospace;font-weight: bold;display: inline-block;line-height: 1.2em;}#sk-container-id-1 div.sk-label-container {text-align: center;}#sk-container-id-1 div.sk-container {/* jupyter's `normalize.less` sets `[hidden] { display: none; }` but bootstrap.min.css set `[hidden] { display: none !important; }` so we also need the `!important` here to be able to override the default hidden behavior on the sphinx rendered scikit-learn.org. See: https://github.com/scikit-learn/scikit-learn/issues/21755 */display: inline-block !important;position: relative;}#sk-container-id-1 div.sk-text-repr-fallback {display: none;}</style><div id=\"sk-container-id-1\" class=\"sk-top-container\"><div class=\"sk-text-repr-fallback\"><pre>ARDRegression()</pre><b>In a Jupyter environment, please rerun this cell to show the HTML representation or trust the notebook. <br />On GitHub, the HTML representation is unable to render, please try loading this page with nbviewer.org.</b></div><div class=\"sk-container\" hidden><div class=\"sk-item\"><div class=\"sk-estimator sk-toggleable\"><input class=\"sk-toggleable__control sk-hidden--visually\" id=\"sk-estimator-id-1\" type=\"checkbox\" checked><label for=\"sk-estimator-id-1\" class=\"sk-toggleable__label sk-toggleable__label-arrow\">ARDRegression</label><div class=\"sk-toggleable__content\"><pre>ARDRegression()</pre></div></div></div></div></div>"
      ],
      "text/plain": [
       "ARDRegression()"
      ]
     },
     "execution_count": 25,
     "metadata": {},
     "output_type": "execute_result"
    }
   ],
   "source": [
    "clf1.fit(train_features, train_labels)\n",
    "clf2.fit(train_features, train_labels)\n",
    "clf3.fit(train_features, train_labels)"
   ]
  },
  {
   "cell_type": "code",
   "execution_count": 26,
   "id": "470c3031",
   "metadata": {},
   "outputs": [],
   "source": [
    "pred_lables_clf1 = clf1.predict(test_features)\n",
    "pred_lables_clf2 = clf2.predict(test_features)\n",
    "pred_lables_clf3 = clf3.predict(test_features)"
   ]
  },
  {
   "cell_type": "code",
   "execution_count": 27,
   "id": "4f02552d",
   "metadata": {},
   "outputs": [
    {
     "name": "stdout",
     "output_type": "stream",
     "text": [
      "Accuracy of model 1 : 0.0953493951791956\n",
      "Accuracy of model 2 : 0.9190839694656489\n",
      "Accuracy of model 3 : 0.07260958870422252\n"
     ]
    }
   ],
   "source": [
    "print(\"Accuracy of model 1 :\", clf1.score(test_features, test_labels))\n",
    "print(\"Accuracy of model 2 :\", clf2.score(test_features, test_labels))\n",
    "print(\"Accuracy of model 3 :\", clf3.score(test_features, test_labels))"
   ]
  },
  {
   "cell_type": "markdown",
   "id": "0d48c0ee",
   "metadata": {},
   "source": [
    "### Model 2 accuracy looks 91% and other models are 9% and 7% there might be some mistakes in data Processing but model 2 gives best out put by this one lets check error"
   ]
  },
  {
   "cell_type": "code",
   "execution_count": 28,
   "id": "7794a9d1",
   "metadata": {},
   "outputs": [
    {
     "name": "stdout",
     "output_type": "stream",
     "text": [
      "Mean Absolut Error of model 1 : 0.15025592008720418\n",
      "Mean Absolut Error of model 2 : 0.08091603053435115\n",
      "Mean Absolut Error of model 3 : 0.14825718803854387\n"
     ]
    }
   ],
   "source": [
    "print(\"Mean Absolut Error of model 1 :\", mean_absolute_error(test_labels, pred_lables_clf1))\n",
    "print(\"Mean Absolut Error of model 2 :\", mean_absolute_error(test_labels, pred_lables_clf2))\n",
    "print(\"Mean Absolut Error of model 3 :\", mean_absolute_error(test_labels, pred_lables_clf3))"
   ]
  },
  {
   "cell_type": "code",
   "execution_count": 29,
   "id": "8fd3282b",
   "metadata": {},
   "outputs": [
    {
     "name": "stdout",
     "output_type": "stream",
     "text": [
      "Mean Absolut Error of model 1 : 0.07151771966262759\n",
      "Mean Absolut Error of model 2 : 0.08091603053435115\n",
      "Mean Absolut Error of model 3 : 0.07331542929327739\n"
     ]
    }
   ],
   "source": [
    "print(\"Mean Absolut Error of model 1 :\", mean_squared_error(test_labels, pred_lables_clf1))\n",
    "print(\"Mean Absolut Error of model 2 :\", mean_squared_error(test_labels, pred_lables_clf2))\n",
    "print(\"Mean Absolut Error of model 3 :\", mean_squared_error(test_labels, pred_lables_clf3))"
   ]
  },
  {
   "cell_type": "markdown",
   "id": "b111c2ec",
   "metadata": {},
   "source": [
    "### Do not always depend on Means Squared error because it balances the output and it us far different out comes"
   ]
  },
  {
   "cell_type": "code",
   "execution_count": 31,
   "id": "53bb9bc3",
   "metadata": {},
   "outputs": [],
   "source": [
    "import pickle\n",
    "\n",
    "# Assuming clf2 is your trained model\n",
    "with open('LogisticRegression_model.pkl' ,'wb') as file:\n",
    "    pickle.dump(clf2, file)"
   ]
  }
 ],
 "metadata": {
  "kernelspec": {
   "display_name": "Python 3 (ipykernel)",
   "language": "python",
   "name": "python3"
  },
  "language_info": {
   "codemirror_mode": {
    "name": "ipython",
    "version": 3
   },
   "file_extension": ".py",
   "mimetype": "text/x-python",
   "name": "python",
   "nbconvert_exporter": "python",
   "pygments_lexer": "ipython3",
   "version": "3.11.4"
  }
 },
 "nbformat": 4,
 "nbformat_minor": 5
}
